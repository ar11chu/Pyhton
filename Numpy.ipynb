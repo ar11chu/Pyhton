{
 "cells": [
  {
   "cell_type": "markdown",
   "id": "6b36da0c",
   "metadata": {},
   "source": [
    "* both matrix must contain same number of cols"
   ]
  },
  {
   "cell_type": "code",
   "execution_count": 55,
   "id": "15759725",
   "metadata": {},
   "outputs": [],
   "source": [
    "import numpy as np\n"
   ]
  },
  {
   "cell_type": "code",
   "execution_count": 2,
   "id": "cb9a7334",
   "metadata": {},
   "outputs": [
    {
     "name": "stdout",
     "output_type": "stream",
     "text": [
      "[ 24 579 286 123 137 892 200 774 135 705]\n",
      "[[ 8 45 17 70  2 92 50 75 21]\n",
      " [11 61 52  3 10  3 30  5 36]\n",
      " [37 99 45 93 87  2 60  4 21]]\n"
     ]
    }
   ],
   "source": [
    "a=np.random.randint(1,1000,10)\n",
    "b=np.random.randint(1,100,(3,9))\n",
    "print(a)\n",
    "print(b)\n"
   ]
  },
  {
   "cell_type": "markdown",
   "id": "3f06e606",
   "metadata": {},
   "source": [
    "# min\n",
    "* function =min which is used for the minimum element\n",
    "# argmin\n",
    "* argmin provides the index of the minimum element"
   ]
  },
  {
   "cell_type": "code",
   "execution_count": 5,
   "id": "33ae02f5",
   "metadata": {},
   "outputs": [
    {
     "name": "stdout",
     "output_type": "stream",
     "text": [
      "24\n",
      "0\n",
      "2\n",
      "4\n"
     ]
    }
   ],
   "source": [
    "print(np.min(a))\n",
    "print(np.argmin(a))\n",
    "print(np.min(b))\n",
    "print(np.argmin(b))"
   ]
  },
  {
   "cell_type": "code",
   "execution_count": 10,
   "id": "1236bd76",
   "metadata": {},
   "outputs": [
    {
     "name": "stdout",
     "output_type": "stream",
     "text": [
      "892\n",
      "5\n",
      "99\n",
      "19\n",
      "[92 61 99]\n",
      "[37 99 52 93 87 92 60 75 36]\n"
     ]
    }
   ],
   "source": [
    "print(np.max(a))\n",
    "print(np.argmax(a))\n",
    "print(np.max(b))\n",
    "print(np.argmax(b))\n",
    "print(np.max(b,axis=1)) # for row wise minimum element\n",
    "print(np.max(b,axis=0)) #for column wise"
   ]
  },
  {
   "cell_type": "code",
   "execution_count": 9,
   "id": "a6db999e",
   "metadata": {},
   "outputs": [
    {
     "name": "stdout",
     "output_type": "stream",
     "text": [
      "24\n",
      "0\n",
      "[2 3 2]\n",
      "4\n"
     ]
    }
   ],
   "source": [
    "print(np.min(a,axis=0))\n",
    "print(np.argmin(a))\n",
    "print(np.min(b,axis=1))\n",
    "print(np.argmin(b)) #for the minimum element of each rows used axis"
   ]
  },
  {
   "cell_type": "code",
   "execution_count": 11,
   "id": "aa8ac90a",
   "metadata": {},
   "outputs": [
    {
     "name": "stdout",
     "output_type": "stream",
     "text": [
      "3855\n",
      "1039\n",
      "[380 211 448]\n",
      "[ 56 205 114 166  99  97 140  84  78]\n"
     ]
    }
   ],
   "source": [
    "print(np.sum(a))#return sum of all elemnets present in arg array\n",
    "print(np.sum(b)) #return sum of all elements present in arg array\n",
    "print(np.sum(b,axis=1))\n",
    "print(np.sum(b,axis=0))"
   ]
  },
  {
   "cell_type": "code",
   "execution_count": 12,
   "id": "bdd9d58c",
   "metadata": {},
   "outputs": [
    {
     "name": "stdout",
     "output_type": "stream",
     "text": [
      "385.5\n",
      "38.48148148148148\n",
      "[42.22222222 23.44444444 49.77777778]\n",
      "[18.66666667 68.33333333 38.         55.33333333 33.         32.33333333\n",
      " 46.66666667 28.         26.        ]\n"
     ]
    }
   ],
   "source": [
    "print(np.mean(a)) #returns arithmetic avg of all elements present in arg array\n",
    "                 \n",
    "print(np.mean(b)) #returns arithmetic avg of all elements present in arg array\n",
    "print(np.mean(b,axis=1)) #returns arithmetic avg of all elements present in arg row\n",
    "print(np.mean(b,axis=0)) #returns arithmetic avg of all elements present in arg column"
   ]
  },
  {
   "cell_type": "code",
   "execution_count": 15,
   "id": "e4bfd214",
   "metadata": {},
   "outputs": [
    {
     "name": "stdout",
     "output_type": "stream",
     "text": [
      "[ 24 123 135 137 200 286 579 705 774 892]\n",
      "[[ 2  8 17 21 45 50 70 75 92]\n",
      " [ 3  3  5 10 11 30 36 52 61]\n",
      " [ 2  4 21 37 45 60 87 93 99]]\n",
      "[[ 8 45 17  3  2  2 30  4 21]\n",
      " [11 61 45 70 10  3 50  5 21]\n",
      " [37 99 52 93 87 92 60 75 36]]\n"
     ]
    }
   ],
   "source": [
    "print(np.sort(a)) # for sorting the array \n",
    "print(np.sort(b ,axis=1)) # for row wise sorting\n",
    "\n",
    "print(np.sort(b ,axis=0)) #for the column wise sorting\n",
    "#sorts the array in the assecending order"
   ]
  },
  {
   "cell_type": "code",
   "execution_count": 17,
   "id": "eccb293c",
   "metadata": {},
   "outputs": [
    {
     "name": "stdout",
     "output_type": "stream",
     "text": [
      "[ 24 579 286 123 137 892 200 774 135 705]\n"
     ]
    }
   ],
   "source": [
    "np.square(a)\n",
    "print(a)"
   ]
  },
  {
   "cell_type": "code",
   "execution_count": 18,
   "id": "b3fc149d",
   "metadata": {},
   "outputs": [
    {
     "name": "stdout",
     "output_type": "stream",
     "text": [
      "[ 24 579 286 123 137 892 200 774 135 705]\n"
     ]
    }
   ],
   "source": [
    "print(a)"
   ]
  },
  {
   "cell_type": "code",
   "execution_count": 19,
   "id": "80be1426",
   "metadata": {},
   "outputs": [
    {
     "data": {
      "text/plain": [
       "array([   576, 335241,  81796,  15129,  18769, 795664,  40000, 599076,\n",
       "        18225, 497025], dtype=int32)"
      ]
     },
     "execution_count": 19,
     "metadata": {},
     "output_type": "execute_result"
    }
   ],
   "source": [
    "np.square(a) #for squaring the array we use the square fuction "
   ]
  },
  {
   "cell_type": "code",
   "execution_count": 20,
   "id": "e53e89e2",
   "metadata": {},
   "outputs": [
    {
     "data": {
      "text/plain": [
       "array([[  64, 2025,  289, 4900,    4, 8464, 2500, 5625,  441],\n",
       "       [ 121, 3721, 2704,    9,  100,    9,  900,   25, 1296],\n",
       "       [1369, 9801, 2025, 8649, 7569,    4, 3600,   16,  441]],\n",
       "      dtype=int32)"
      ]
     },
     "execution_count": 20,
     "metadata": {},
     "output_type": "execute_result"
    }
   ],
   "source": [
    "np.square(b)"
   ]
  },
  {
   "cell_type": "code",
   "execution_count": 23,
   "id": "06725a4f",
   "metadata": {},
   "outputs": [
    {
     "data": {
      "text/plain": [
       "array([ 4.89897949, 24.06241883, 16.91153453, 11.09053651, 11.70469991,\n",
       "       29.86636905, 14.14213562, 27.82085549, 11.61895004, 26.55183609])"
      ]
     },
     "execution_count": 23,
     "metadata": {},
     "output_type": "execute_result"
    }
   ],
   "source": [
    "np.sqrt(a) #for finding the square root of the array we use the sqrr function\n"
   ]
  },
  {
   "cell_type": "code",
   "execution_count": 24,
   "id": "87ad48fe",
   "metadata": {},
   "outputs": [
    {
     "ename": "NameError",
     "evalue": "name 'a_sqrt' is not defined",
     "output_type": "error",
     "traceback": [
      "\u001b[1;31m---------------------------------------------------------------------------\u001b[0m",
      "\u001b[1;31mNameError\u001b[0m                                 Traceback (most recent call last)",
      "Input \u001b[1;32mIn [24]\u001b[0m, in \u001b[0;36m<module>\u001b[1;34m\u001b[0m\n\u001b[1;32m----> 1\u001b[0m np\u001b[38;5;241m.\u001b[39mround(\u001b[43ma_sqrt\u001b[49m,\u001b[38;5;241m2\u001b[39m)\n",
      "\u001b[1;31mNameError\u001b[0m: name 'a_sqrt' is not defined"
     ]
    }
   ],
   "source": [
    "np.round(a_sqrt,2)"
   ]
  },
  {
   "cell_type": "code",
   "execution_count": 25,
   "id": "55fdd552",
   "metadata": {},
   "outputs": [
    {
     "ename": "NameError",
     "evalue": "name 'a_sqrt' is not defined",
     "output_type": "error",
     "traceback": [
      "\u001b[1;31m---------------------------------------------------------------------------\u001b[0m",
      "\u001b[1;31mNameError\u001b[0m                                 Traceback (most recent call last)",
      "Input \u001b[1;32mIn [25]\u001b[0m, in \u001b[0;36m<module>\u001b[1;34m\u001b[0m\n\u001b[1;32m----> 1\u001b[0m \u001b[38;5;28mprint\u001b[39m(\u001b[43ma_sqrt\u001b[49m)\n",
      "\u001b[1;31mNameError\u001b[0m: name 'a_sqrt' is not defined"
     ]
    }
   ],
   "source": [
    "print(a_sqrt)"
   ]
  },
  {
   "cell_type": "code",
   "execution_count": 26,
   "id": "60ddb2c9",
   "metadata": {},
   "outputs": [],
   "source": [
    "a_sqrt=np.sqrt(a)"
   ]
  },
  {
   "cell_type": "code",
   "execution_count": 27,
   "id": "b3f8179d",
   "metadata": {},
   "outputs": [
    {
     "name": "stdout",
     "output_type": "stream",
     "text": [
      "[ 4.89897949 24.06241883 16.91153453 11.09053651 11.70469991 29.86636905\n",
      " 14.14213562 27.82085549 11.61895004 26.55183609]\n"
     ]
    }
   ],
   "source": [
    "print(a_sqrt)"
   ]
  },
  {
   "cell_type": "code",
   "execution_count": 28,
   "id": "366640f6",
   "metadata": {},
   "outputs": [
    {
     "name": "stdout",
     "output_type": "stream",
     "text": [
      "[ 4.89897949 24.06241883 16.91153453 11.09053651 11.70469991 29.86636905\n",
      " 14.14213562 27.82085549 11.61895004 26.55183609] 2\n"
     ]
    }
   ],
   "source": [
    "print(a_sqrt,2)"
   ]
  },
  {
   "cell_type": "code",
   "execution_count": 29,
   "id": "6a908e1a",
   "metadata": {},
   "outputs": [
    {
     "data": {
      "text/plain": [
       "array([ 4.9 , 24.06, 16.91, 11.09, 11.7 , 29.87, 14.14, 27.82, 11.62,\n",
       "       26.55])"
      ]
     },
     "execution_count": 29,
     "metadata": {},
     "output_type": "execute_result"
    }
   ],
   "source": [
    "np.round(a_sqrt,2) # for rounding off the we use the round function"
   ]
  },
  {
   "cell_type": "code",
   "execution_count": 30,
   "id": "a3424068",
   "metadata": {},
   "outputs": [
    {
     "data": {
      "text/plain": [
       "array([ 4.9 , 24.06, 16.91, 11.09, 11.7 , 29.87, 14.14, 27.82, 11.62,\n",
       "       26.55])"
      ]
     },
     "execution_count": 30,
     "metadata": {},
     "output_type": "execute_result"
    }
   ],
   "source": [
    "np.round(np.sqrt(a),2)"
   ]
  },
  {
   "cell_type": "markdown",
   "id": "a923cf1c",
   "metadata": {},
   "source": [
    "## log\n",
    "* for log computation we use the log function\n",
    "* it is uses when the base is e"
   ]
  },
  {
   "cell_type": "code",
   "execution_count": 33,
   "id": "9e9bc602",
   "metadata": {},
   "outputs": [
    {
     "data": {
      "text/plain": [
       "array([3.17805383, 6.36130248, 5.65599181, 4.81218436, 4.91998093,\n",
       "       6.79346613, 5.29831737, 6.65157187, 4.90527478, 6.5581978 ])"
      ]
     },
     "execution_count": 33,
     "metadata": {},
     "output_type": "execute_result"
    }
   ],
   "source": [
    "np.log(a)\n"
   ]
  },
  {
   "cell_type": "code",
   "execution_count": 34,
   "id": "e8ffa1bf",
   "metadata": {},
   "outputs": [
    {
     "data": {
      "text/plain": [
       "array([1.38021124, 2.76267856, 2.45636603, 2.08990511, 2.13672057,\n",
       "       2.95036485, 2.30103   , 2.88874096, 2.13033377, 2.84818912])"
      ]
     },
     "execution_count": 34,
     "metadata": {},
     "output_type": "execute_result"
    }
   ],
   "source": [
    "np.log10(a)"
   ]
  },
  {
   "cell_type": "code",
   "execution_count": 37,
   "id": "f6fd0e3e",
   "metadata": {},
   "outputs": [
    {
     "name": "stdout",
     "output_type": "stream",
     "text": [
      "[[ 8 45 17 70  2 92 50 75 21]\n",
      " [11 61 52  3 10  3 30  5 36]\n",
      " [37 99 45 93 87  2 60  4 21]]\n"
     ]
    }
   ],
   "source": [
    "print(b)"
   ]
  },
  {
   "cell_type": "markdown",
   "id": "27a43e8d",
   "metadata": {},
   "source": [
    "## Transpose func"
   ]
  },
  {
   "cell_type": "code",
   "execution_count": 39,
   "id": "9045762d",
   "metadata": {},
   "outputs": [
    {
     "data": {
      "text/plain": [
       "array([[ 8, 11, 37],\n",
       "       [45, 61, 99],\n",
       "       [17, 52, 45],\n",
       "       [70,  3, 93],\n",
       "       [ 2, 10, 87],\n",
       "       [92,  3,  2],\n",
       "       [50, 30, 60],\n",
       "       [75,  5,  4],\n",
       "       [21, 36, 21]])"
      ]
     },
     "execution_count": 39,
     "metadata": {},
     "output_type": "execute_result"
    }
   ],
   "source": [
    "np.transpose(b)"
   ]
  },
  {
   "cell_type": "code",
   "execution_count": 41,
   "id": "4f1348b6",
   "metadata": {},
   "outputs": [
    {
     "data": {
      "text/plain": [
       "array([[ 8, 11, 37],\n",
       "       [45, 61, 99],\n",
       "       [17, 52, 45],\n",
       "       [70,  3, 93],\n",
       "       [ 2, 10, 87],\n",
       "       [92,  3,  2],\n",
       "       [50, 30, 60],\n",
       "       [75,  5,  4],\n",
       "       [21, 36, 21]])"
      ]
     },
     "execution_count": 41,
     "metadata": {},
     "output_type": "execute_result"
    }
   ],
   "source": [
    "b.T # it is  also used for transposing of the matrix"
   ]
  },
  {
   "cell_type": "markdown",
   "id": "b7992790",
   "metadata": {},
   "source": [
    "## numpy fun v/s array method"
   ]
  },
  {
   "cell_type": "code",
   "execution_count": 42,
   "id": "e73d472d",
   "metadata": {},
   "outputs": [
    {
     "data": {
      "text/plain": [
       "array([ 24, 579, 286, 123, 137, 892, 200, 774, 135, 705])"
      ]
     },
     "execution_count": 42,
     "metadata": {},
     "output_type": "execute_result"
    }
   ],
   "source": [
    "a"
   ]
  },
  {
   "cell_type": "code",
   "execution_count": 43,
   "id": "2b50fb72",
   "metadata": {},
   "outputs": [
    {
     "data": {
      "text/plain": [
       "3855"
      ]
     },
     "execution_count": 43,
     "metadata": {},
     "output_type": "execute_result"
    }
   ],
   "source": [
    "np.sum(a) # numpy function"
   ]
  },
  {
   "cell_type": "code",
   "execution_count": 44,
   "id": "aab43c3f",
   "metadata": {},
   "outputs": [
    {
     "data": {
      "text/plain": [
       "3855"
      ]
     },
     "execution_count": 44,
     "metadata": {},
     "output_type": "execute_result"
    }
   ],
   "source": [
    "a.sum() #array method"
   ]
  },
  {
   "cell_type": "code",
   "execution_count": 49,
   "id": "1f7bca2b",
   "metadata": {},
   "outputs": [
    {
     "data": {
      "text/plain": [
       "45"
      ]
     },
     "execution_count": 49,
     "metadata": {},
     "output_type": "execute_result"
    }
   ],
   "source": [
    "x=[3,35,2,5]\n",
    "np.mean(x)\n",
    "np.sum(x)\n"
   ]
  },
  {
   "cell_type": "code",
   "execution_count": 50,
   "id": "acf6026c",
   "metadata": {},
   "outputs": [
    {
     "data": {
      "text/plain": [
       "243.0"
      ]
     },
     "execution_count": 50,
     "metadata": {},
     "output_type": "execute_result"
    }
   ],
   "source": [
    "np.median(a)"
   ]
  },
  {
   "cell_type": "code",
   "execution_count": 52,
   "id": "463a254e",
   "metadata": {},
   "outputs": [
    {
     "name": "stdout",
     "output_type": "stream",
     "text": [
      "[[ 8 45 17 70  2 92 50 75 21]\n",
      " [11 61 52  3 10  3 30  5 36]\n",
      " [37 99 45 93 87  2 60  4 21]]\n"
     ]
    }
   ],
   "source": [
    "print(b)"
   ]
  },
  {
   "cell_type": "code",
   "execution_count": 58,
   "id": "9c7e388d",
   "metadata": {},
   "outputs": [
    {
     "name": "stdout",
     "output_type": "stream",
     "text": [
      "[[3 4 1]\n",
      " [2 3 2]\n",
      " [4 3 2]]\n",
      "[[4 3 3]\n",
      " [2 4 4]\n",
      " [1 3 4]]\n"
     ]
    }
   ],
   "source": [
    "a=np.random.randint(1,5,(3,3))\n",
    "b=np.random.randint(1,5,(3,3))\n",
    "print(a)\n",
    "print(b)"
   ]
  },
  {
   "cell_type": "code",
   "execution_count": 59,
   "id": "d3894e03",
   "metadata": {},
   "outputs": [
    {
     "data": {
      "text/plain": [
       "array([[12, 12,  3],\n",
       "       [ 4, 12,  8],\n",
       "       [ 4,  9,  8]])"
      ]
     },
     "execution_count": 59,
     "metadata": {},
     "output_type": "execute_result"
    }
   ],
   "source": [
    "a*b"
   ]
  },
  {
   "cell_type": "code",
   "execution_count": 60,
   "id": "ad65a3ee",
   "metadata": {},
   "outputs": [
    {
     "data": {
      "text/plain": [
       "array([[21, 28, 29],\n",
       "       [16, 24, 26],\n",
       "       [24, 30, 32]])"
      ]
     },
     "execution_count": 60,
     "metadata": {},
     "output_type": "execute_result"
    }
   ],
   "source": [
    "np.dot(a,b)"
   ]
  },
  {
   "cell_type": "markdown",
   "id": "8a3d7a93",
   "metadata": {},
   "source": [
    "#  @ used as a dot product"
   ]
  },
  {
   "cell_type": "code",
   "execution_count": 61,
   "id": "79011252",
   "metadata": {},
   "outputs": [
    {
     "data": {
      "text/plain": [
       "array([[21, 28, 29],\n",
       "       [16, 24, 26],\n",
       "       [24, 30, 32]])"
      ]
     },
     "execution_count": 61,
     "metadata": {},
     "output_type": "execute_result"
    }
   ],
   "source": [
    "a@b"
   ]
  },
  {
   "cell_type": "code",
   "execution_count": 62,
   "id": "d50e6b80",
   "metadata": {},
   "outputs": [
    {
     "ename": "OSError",
     "evalue": "file path not found.",
     "output_type": "error",
     "traceback": [
      "\u001b[1;31m---------------------------------------------------------------------------\u001b[0m",
      "\u001b[1;31mOSError\u001b[0m                                   Traceback (most recent call last)",
      "Input \u001b[1;32mIn [62]\u001b[0m, in \u001b[0;36m<module>\u001b[1;34m\u001b[0m\n\u001b[1;32m----> 1\u001b[0m a\u001b[38;5;241m=\u001b[39m\u001b[43mnp\u001b[49m\u001b[38;5;241;43m.\u001b[39;49m\u001b[43mloadtxt\u001b[49m\u001b[43m(\u001b[49m\u001b[38;5;124;43m\"\u001b[39;49m\u001b[38;5;124;43mfile path\u001b[39;49m\u001b[38;5;124;43m\"\u001b[39;49m\u001b[43m \u001b[49m\u001b[43m,\u001b[49m\u001b[43mdelimiter\u001b[49m\u001b[38;5;241;43m=\u001b[39;49m\u001b[38;5;124;43m'\u001b[39;49m\u001b[38;5;124;43m,\u001b[39;49m\u001b[38;5;124;43m'\u001b[39;49m\u001b[43m,\u001b[49m\u001b[43mdtype\u001b[49m\u001b[38;5;241;43m=\u001b[39;49m\u001b[43mnp\u001b[49m\u001b[38;5;241;43m.\u001b[39;49m\u001b[43mint32\u001b[49m\u001b[43m)\u001b[49m\n",
      "File \u001b[1;32m~\\.ipython\\Anaconda\\lib\\site-packages\\numpy\\lib\\npyio.py:1065\u001b[0m, in \u001b[0;36mloadtxt\u001b[1;34m(fname, dtype, comments, delimiter, converters, skiprows, usecols, unpack, ndmin, encoding, max_rows, like)\u001b[0m\n\u001b[0;32m   1063\u001b[0m     fname \u001b[38;5;241m=\u001b[39m os_fspath(fname)\n\u001b[0;32m   1064\u001b[0m \u001b[38;5;28;01mif\u001b[39;00m _is_string_like(fname):\n\u001b[1;32m-> 1065\u001b[0m     fh \u001b[38;5;241m=\u001b[39m \u001b[43mnp\u001b[49m\u001b[38;5;241;43m.\u001b[39;49m\u001b[43mlib\u001b[49m\u001b[38;5;241;43m.\u001b[39;49m\u001b[43m_datasource\u001b[49m\u001b[38;5;241;43m.\u001b[39;49m\u001b[43mopen\u001b[49m\u001b[43m(\u001b[49m\u001b[43mfname\u001b[49m\u001b[43m,\u001b[49m\u001b[43m \u001b[49m\u001b[38;5;124;43m'\u001b[39;49m\u001b[38;5;124;43mrt\u001b[39;49m\u001b[38;5;124;43m'\u001b[39;49m\u001b[43m,\u001b[49m\u001b[43m \u001b[49m\u001b[43mencoding\u001b[49m\u001b[38;5;241;43m=\u001b[39;49m\u001b[43mencoding\u001b[49m\u001b[43m)\u001b[49m\n\u001b[0;32m   1066\u001b[0m     fencoding \u001b[38;5;241m=\u001b[39m \u001b[38;5;28mgetattr\u001b[39m(fh, \u001b[38;5;124m'\u001b[39m\u001b[38;5;124mencoding\u001b[39m\u001b[38;5;124m'\u001b[39m, \u001b[38;5;124m'\u001b[39m\u001b[38;5;124mlatin1\u001b[39m\u001b[38;5;124m'\u001b[39m)\n\u001b[0;32m   1067\u001b[0m     fh \u001b[38;5;241m=\u001b[39m \u001b[38;5;28miter\u001b[39m(fh)\n",
      "File \u001b[1;32m~\\.ipython\\Anaconda\\lib\\site-packages\\numpy\\lib\\_datasource.py:194\u001b[0m, in \u001b[0;36mopen\u001b[1;34m(path, mode, destpath, encoding, newline)\u001b[0m\n\u001b[0;32m    157\u001b[0m \u001b[38;5;124;03m\"\"\"\u001b[39;00m\n\u001b[0;32m    158\u001b[0m \u001b[38;5;124;03mOpen `path` with `mode` and return the file object.\u001b[39;00m\n\u001b[0;32m    159\u001b[0m \n\u001b[1;32m   (...)\u001b[0m\n\u001b[0;32m    190\u001b[0m \n\u001b[0;32m    191\u001b[0m \u001b[38;5;124;03m\"\"\"\u001b[39;00m\n\u001b[0;32m    193\u001b[0m ds \u001b[38;5;241m=\u001b[39m DataSource(destpath)\n\u001b[1;32m--> 194\u001b[0m \u001b[38;5;28;01mreturn\u001b[39;00m \u001b[43mds\u001b[49m\u001b[38;5;241;43m.\u001b[39;49m\u001b[43mopen\u001b[49m\u001b[43m(\u001b[49m\u001b[43mpath\u001b[49m\u001b[43m,\u001b[49m\u001b[43m \u001b[49m\u001b[43mmode\u001b[49m\u001b[43m,\u001b[49m\u001b[43m \u001b[49m\u001b[43mencoding\u001b[49m\u001b[38;5;241;43m=\u001b[39;49m\u001b[43mencoding\u001b[49m\u001b[43m,\u001b[49m\u001b[43m \u001b[49m\u001b[43mnewline\u001b[49m\u001b[38;5;241;43m=\u001b[39;49m\u001b[43mnewline\u001b[49m\u001b[43m)\u001b[49m\n",
      "File \u001b[1;32m~\\.ipython\\Anaconda\\lib\\site-packages\\numpy\\lib\\_datasource.py:531\u001b[0m, in \u001b[0;36mDataSource.open\u001b[1;34m(self, path, mode, encoding, newline)\u001b[0m\n\u001b[0;32m    528\u001b[0m     \u001b[38;5;28;01mreturn\u001b[39;00m _file_openers[ext](found, mode\u001b[38;5;241m=\u001b[39mmode,\n\u001b[0;32m    529\u001b[0m                               encoding\u001b[38;5;241m=\u001b[39mencoding, newline\u001b[38;5;241m=\u001b[39mnewline)\n\u001b[0;32m    530\u001b[0m \u001b[38;5;28;01melse\u001b[39;00m:\n\u001b[1;32m--> 531\u001b[0m     \u001b[38;5;28;01mraise\u001b[39;00m \u001b[38;5;167;01mIOError\u001b[39;00m(\u001b[38;5;124m\"\u001b[39m\u001b[38;5;132;01m%s\u001b[39;00m\u001b[38;5;124m not found.\u001b[39m\u001b[38;5;124m\"\u001b[39m \u001b[38;5;241m%\u001b[39m path)\n",
      "\u001b[1;31mOSError\u001b[0m: file path not found."
     ]
    }
   ],
   "source": [
    "a=np.loadtxt(\"file path\" ,delimiter=',',dtype=np.int32) # it is used for "
   ]
  },
  {
   "cell_type": "code",
   "execution_count": 63,
   "id": "824df4d4",
   "metadata": {},
   "outputs": [
    {
     "data": {
      "text/plain": [
       "array([[1.73, 2.  , 1.  ],\n",
       "       [1.41, 1.73, 1.41],\n",
       "       [2.  , 1.73, 1.41]])"
      ]
     },
     "execution_count": 63,
     "metadata": {},
     "output_type": "execute_result"
    }
   ],
   "source": [
    "np.round(np.sqrt(a),2)"
   ]
  },
  {
   "cell_type": "markdown",
   "id": "d49b23e3",
   "metadata": {},
   "source": []
  },
  {
   "cell_type": "code",
   "execution_count": 64,
   "id": "1a437c67",
   "metadata": {},
   "outputs": [],
   "source": [
    "np.savetxt(\"file path\",a,newline=',',fmt=\"%.2f\")"
   ]
  },
  {
   "cell_type": "markdown",
   "id": "b6bd1eb9",
   "metadata": {},
   "source": [
    "# labeled data \n",
    "* have column name and row have index \n",
    "* pandas dataframe\n",
    "\n",
    "\n",
    "\n",
    "\n",
    "# unlabeled data\n",
    "* numpy matrix"
   ]
  },
  {
   "cell_type": "code",
   "execution_count": null,
   "id": "91a3f36e",
   "metadata": {},
   "outputs": [],
   "source": []
  }
 ],
 "metadata": {
  "kernelspec": {
   "display_name": "Python 3 (ipykernel)",
   "language": "python",
   "name": "python3"
  },
  "language_info": {
   "codemirror_mode": {
    "name": "ipython",
    "version": 3
   },
   "file_extension": ".py",
   "mimetype": "text/x-python",
   "name": "python",
   "nbconvert_exporter": "python",
   "pygments_lexer": "ipython3",
   "version": "3.9.7"
  }
 },
 "nbformat": 4,
 "nbformat_minor": 5
}
